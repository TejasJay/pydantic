{
 "cells": [
  {
   "cell_type": "code",
   "execution_count": 2,
   "metadata": {},
   "outputs": [
    {
     "name": "stdout",
     "output_type": "stream",
     "text": [
      "2.11.7\n"
     ]
    }
   ],
   "source": [
    "import pydantic\n",
    "print(pydantic.__version__)"
   ]
  },
  {
   "cell_type": "markdown",
   "metadata": {},
   "source": [
    "Validierung ohne Pydantic"
   ]
  },
  {
   "cell_type": "code",
   "execution_count": 3,
   "metadata": {},
   "outputs": [
    {
     "name": "stdout",
     "output_type": "stream",
     "text": [
      "Expected id to be an int, got str\n"
     ]
    }
   ],
   "source": [
    "class User:\n",
    "    def __init__(self, id, name='Jane Doe'):\n",
    "        if not isinstance(id, int):\n",
    "            raise TypeError(f'Expected id to be an int, got {type(id).__name__}')\n",
    "        \n",
    "        if not isinstance(name, str):\n",
    "            raise TypeError(f'Expected name to be a str, got {type(name).__name__}')\n",
    "        \n",
    "        self.id = id\n",
    "        self.name = name\n",
    "\n",
    "try:\n",
    "    user = User(id='123')\n",
    "except TypeError as e:\n",
    "    print(e)\n"
   ]
  },
  {
   "cell_type": "markdown",
   "metadata": {},
   "source": [
    "Mit Pydantic"
   ]
  },
  {
   "cell_type": "code",
   "execution_count": 4,
   "metadata": {},
   "outputs": [],
   "source": [
    "from pydantic import BaseModel\n",
    "\n",
    "\n",
    "class User(BaseModel):\n",
    "    id: int\n",
    "    name: str = 'Jane Doe'\n"
   ]
  },
  {
   "cell_type": "code",
   "execution_count": 5,
   "metadata": {},
   "outputs": [],
   "source": [
    "user = User(id='123')"
   ]
  },
  {
   "cell_type": "code",
   "execution_count": 6,
   "metadata": {},
   "outputs": [
    {
     "name": "stdout",
     "output_type": "stream",
     "text": [
      "123\n"
     ]
    }
   ],
   "source": [
    "print(user.id)"
   ]
  },
  {
   "cell_type": "markdown",
   "metadata": {},
   "source": [
    "Check field names"
   ]
  },
  {
   "cell_type": "code",
   "execution_count": 7,
   "metadata": {},
   "outputs": [
    {
     "name": "stdout",
     "output_type": "stream",
     "text": [
      "{'id'}\n",
      "{'name', 'id'}\n"
     ]
    }
   ],
   "source": [
    "print(user.model_fields_set)\n",
    "user = User(id='123', name='Joe Doe')\n",
    "print(user.model_fields_set)\n"
   ]
  },
  {
   "cell_type": "markdown",
   "metadata": {},
   "source": [
    "dump data"
   ]
  },
  {
   "cell_type": "code",
   "execution_count": 8,
   "metadata": {},
   "outputs": [
    {
     "name": "stdout",
     "output_type": "stream",
     "text": [
      "{'id': 123, 'name': 'Joe Doe'}\n",
      "{\"id\":123,\"name\":\"Joe Doe\"}\n",
      "{'properties': {'id': {'title': 'Id', 'type': 'integer'}, 'name': {'default': 'Jane Doe', 'title': 'Name', 'type': 'string'}}, 'required': ['id'], 'title': 'User', 'type': 'object'}\n"
     ]
    }
   ],
   "source": [
    "print(user.model_dump())\n",
    "print(user.model_dump_json())\n",
    "print(user.model_json_schema())"
   ]
  },
  {
   "cell_type": "markdown",
   "metadata": {},
   "source": [
    "### Nested models"
   ]
  },
  {
   "cell_type": "code",
   "execution_count": 9,
   "metadata": {},
   "outputs": [
    {
     "name": "stdout",
     "output_type": "stream",
     "text": [
      "name='Tasty Bites' location='123, Flavor Street' foods=[Food(name='Cheese Pizza', price=12.5, ingredients=['Cheese', 'Tomato Sauce', 'Dough']), Food(name='Veggie Burger', price=8.99, ingredients=None)]\n",
      "{'name': 'Tasty Bites', 'location': '123, Flavor Street', 'foods': [{'name': 'Cheese Pizza', 'price': 12.5, 'ingredients': ['Cheese', 'Tomato Sauce', 'Dough']}, {'name': 'Veggie Burger', 'price': 8.99, 'ingredients': None}]}\n"
     ]
    }
   ],
   "source": [
    "from typing import List, Optional\n",
    "from pydantic import BaseModel\n",
    "\n",
    "\n",
    "class Food(BaseModel):\n",
    "    name: str\n",
    "    price: float\n",
    "    ingredients: Optional[List[str]] = None\n",
    "\n",
    "\n",
    "class Restaurant(BaseModel):\n",
    "    name: str\n",
    "    location: str\n",
    "    foods: List[Food]\n",
    "\n",
    "\n",
    "restaurant_instance = Restaurant(\n",
    "    name=\"Tasty Bites\",\n",
    "    location=\"123, Flavor Street\",\n",
    "    foods=[\n",
    "        {\"name\": \"Cheese Pizza\", \"price\": 12.50, \"ingredients\": [\"Cheese\", \"Tomato Sauce\", \"Dough\"]},\n",
    "        {\"name\": \"Veggie Burger\", \"price\": 8.99}\n",
    "    ]\n",
    ")\n",
    "\n",
    "print(restaurant_instance)\n",
    "print(restaurant_instance.model_dump())"
   ]
  },
  {
   "cell_type": "code",
   "execution_count": 1,
   "metadata": {},
   "outputs": [
    {
     "name": "stdout",
     "output_type": "stream",
     "text": [
      "Requirement already satisfied: pydantic[email] in ./.pydantic/lib/python3.11/site-packages (2.11.7)\n",
      "Requirement already satisfied: annotated-types>=0.6.0 in ./.pydantic/lib/python3.11/site-packages (from pydantic[email]) (0.7.0)\n",
      "Requirement already satisfied: pydantic-core==2.33.2 in ./.pydantic/lib/python3.11/site-packages (from pydantic[email]) (2.33.2)\n",
      "Requirement already satisfied: typing-extensions>=4.12.2 in ./.pydantic/lib/python3.11/site-packages (from pydantic[email]) (4.15.0)\n",
      "Requirement already satisfied: typing-inspection>=0.4.0 in ./.pydantic/lib/python3.11/site-packages (from pydantic[email]) (0.4.1)\n",
      "Requirement already satisfied: email-validator>=2.0.0 in ./.pydantic/lib/python3.11/site-packages (from pydantic[email]) (2.2.0)\n",
      "Requirement already satisfied: dnspython>=2.0.0 in ./.pydantic/lib/python3.11/site-packages (from email-validator>=2.0.0->pydantic[email]) (2.7.0)\n",
      "Requirement already satisfied: idna>=2.0.0 in ./.pydantic/lib/python3.11/site-packages (from email-validator>=2.0.0->pydantic[email]) (3.10)\n",
      "\n",
      "\u001b[1m[\u001b[0m\u001b[34;49mnotice\u001b[0m\u001b[1;39;49m]\u001b[0m\u001b[39;49m A new release of pip is available: \u001b[0m\u001b[31;49m25.1.1\u001b[0m\u001b[39;49m -> \u001b[0m\u001b[32;49m25.2\u001b[0m\n",
      "\u001b[1m[\u001b[0m\u001b[34;49mnotice\u001b[0m\u001b[1;39;49m]\u001b[0m\u001b[39;49m To update, run: \u001b[0m\u001b[32;49mpip install --upgrade pip\u001b[0m\n"
     ]
    }
   ],
   "source": [
    "!pip install 'pydantic[email]'"
   ]
  },
  {
   "cell_type": "code",
   "execution_count": 10,
   "metadata": {},
   "outputs": [
    {
     "name": "stdout",
     "output_type": "stream",
     "text": [
      "name='Tasty Bites' owner=Owner(name='John Doe', email='john.doe@example.com') address=Address(street='123, Flavor Street', city='Tastytown', state='TS', zip_code='12345') employees=[Employee(name='Jane Doe', position='Chef', email='jane.doe@example.com'), Employee(name='Mike Roe', position='Waiter', email='mike.roe@example.com')] number_of_seats=50 delivery=True website=HttpUrl('http://tastybites.com/')\n"
     ]
    }
   ],
   "source": [
    "from typing import List\n",
    "from pydantic import BaseModel, EmailStr, PositiveInt, conlist, Field, HttpUrl\n",
    "\n",
    "class Address(BaseModel):\n",
    "    street: str\n",
    "    city: str\n",
    "    state: str\n",
    "    zip_code: str\n",
    "\n",
    "class Employee(BaseModel):\n",
    "    name: str\n",
    "    position: str\n",
    "    email: EmailStr\n",
    "    \n",
    "class Owner(BaseModel):\n",
    "    name: str\n",
    "    email: EmailStr\n",
    "    \n",
    "class Restaurant(BaseModel):\n",
    "    name: str = Field(..., pattern=r\"^[a-zA-Z0-9-' ]+$\")\n",
    "    owner: Owner\n",
    "    address: Address\n",
    "    employees: conlist(Employee, min_length=2)\n",
    "    number_of_seats: PositiveInt\n",
    "    delivery: bool\n",
    "    website: HttpUrl\n",
    "\n",
    "# Creating an instance of the Restaurant class\n",
    "restaurant_instance = Restaurant(\n",
    "    name=\"Tasty Bites\",\n",
    "    owner={\n",
    "        \"name\": \"John Doe\",\n",
    "        \"email\": \"john.doe@example.com\"\n",
    "    },\n",
    "    address={\n",
    "        \"street\": \"123, Flavor Street\",\n",
    "        \"city\": \"Tastytown\",\n",
    "        \"state\": \"TS\",\n",
    "        \"zip_code\": \"12345\",\n",
    "    },\n",
    "    employees=[\n",
    "        {\n",
    "            \"name\": \"Jane Doe\",\n",
    "            \"position\": \"Chef\",\n",
    "            \"email\": \"jane.doe@example.com\"\n",
    "        },\n",
    "        {\n",
    "            \"name\": \"Mike Roe\",\n",
    "            \"position\": \"Waiter\",\n",
    "            \"email\": \"mike.roe@example.com\"\n",
    "        }\n",
    "    ],\n",
    "    number_of_seats=50,\n",
    "    delivery=True,\n",
    "    website=\"http://tastybites.com\"\n",
    ")\n",
    "\n",
    "# Printing the instance\n",
    "print(restaurant_instance)\n"
   ]
  },
  {
   "cell_type": "markdown",
   "metadata": {},
   "source": [
    "Field Validators"
   ]
  },
  {
   "cell_type": "code",
   "execution_count": 15,
   "metadata": {},
   "outputs": [
    {
     "name": "stdout",
     "output_type": "stream",
     "text": [
      "1 validation error for Owner\n",
      "name\n",
      "  Value error, Owner name must contain a space [type=value_error, input_value='JohnDoe', input_type=str]\n",
      "    For further information visit https://errors.pydantic.dev/2.11/v/value_error\n"
     ]
    }
   ],
   "source": [
    "from pydantic import BaseModel, EmailStr, field_validator\n",
    "\n",
    "class Owner(BaseModel):\n",
    "    name: str\n",
    "    email: EmailStr\n",
    "    \n",
    "    @field_validator('name')\n",
    "    @classmethod\n",
    "    def name_must_contain_space(cls, v: str) -> str:\n",
    "        if ' ' not in v:\n",
    "            raise ValueError('Owner name must contain a space')\n",
    "        return v.title()\n",
    "\n",
    "try:\n",
    "    owner_instance = Owner(name=\"JohnDoe\", email=\"john.doe@example.com\")\n",
    "    print(owner_instance)\n",
    "except ValueError as e:\n",
    "    print(e)\n",
    "\n"
   ]
  },
  {
   "cell_type": "markdown",
   "metadata": {},
   "source": [
    "Model validators - allowing you to create a model before and after field validation"
   ]
  },
  {
   "cell_type": "code",
   "execution_count": 22,
   "metadata": {},
   "outputs": [
    {
     "name": "stdout",
     "output_type": "stream",
     "text": [
      "name='John Doe' email='john.doe@example.com'\n",
      "\n",
      "\n",
      "1 validation error for Owner\n",
      "  Value error, password should not be included [type=value_error, input_value={'name': 'JohnDoe', 'emai...assword': 'password123'}, input_type=dict]\n",
      "    For further information visit https://errors.pydantic.dev/2.11/v/value_error\n"
     ]
    }
   ],
   "source": [
    "from typing import Any\n",
    "from pydantic import BaseModel, EmailStr, ValidationError, model_validator\n",
    "\n",
    "class Owner(BaseModel):\n",
    "    name: str\n",
    "    email: EmailStr\n",
    "    \n",
    "    @model_validator(mode='before')\n",
    "    @classmethod\n",
    "    def check_sensitive_info_omitted(cls, data: Any) -> Any:\n",
    "        if isinstance(data, dict):\n",
    "            if 'password' in data:\n",
    "                raise ValueError('password should not be included')\n",
    "            if 'card_number' in data:\n",
    "                raise ValueError('card_number should not be included')\n",
    "        return data\n",
    "    \n",
    "    @model_validator(mode='after')\n",
    "    def check_name_contains_space(self) -> 'Owner':\n",
    "        if ' ' not in self.name:\n",
    "            raise ValueError('Owner name must contain a space')\n",
    "        return self\n",
    "\n",
    "\n",
    "\n",
    "print(Owner(name=\"John Doe\", email=\"john.doe@example.com\")) \n",
    "print('\\n')\n",
    "try:\n",
    "    Owner(name=\"JohnDoe\", email=\"john.doe@example.com\", password=\"password123\")\n",
    "except ValidationError as e:\n",
    "    print(e) \n"
   ]
  },
  {
   "cell_type": "code",
   "execution_count": 23,
   "metadata": {},
   "outputs": [
    {
     "name": "stdout",
     "output_type": "stream",
     "text": [
      "1 validation error for Owner\n",
      "  Value error, Owner name must contain a space [type=value_error, input_value={'name': 'JohnDoe', 'emai... 'john.doe@example.com'}, input_type=dict]\n",
      "    For further information visit https://errors.pydantic.dev/2.11/v/value_error\n"
     ]
    }
   ],
   "source": [
    "try:\n",
    "    Owner(name=\"JohnDoe\", email=\"john.doe@example.com\")\n",
    "except ValidationError as e:\n",
    "    print(e)"
   ]
  },
  {
   "cell_type": "code",
   "execution_count": 24,
   "metadata": {},
   "outputs": [],
   "source": [
    "try:\n",
    "    Owner(name=\"John Doe\", email=\"john.doe@example.com\")\n",
    "except ValidationError as e:\n",
    "    print(e)"
   ]
  },
  {
   "cell_type": "markdown",
   "metadata": {},
   "source": [
    "Fields - Used to customize and add metadata to fields of models"
   ]
  },
  {
   "cell_type": "code",
   "execution_count": 25,
   "metadata": {},
   "outputs": [
    {
     "name": "stdout",
     "output_type": "stream",
     "text": [
      "name='John Doe'\n"
     ]
    }
   ],
   "source": [
    "from pydantic import BaseModel, Field\n",
    "\n",
    "class User(BaseModel):\n",
    "    name: str = Field(default='John Doe')\n",
    "\n",
    "user = User()\n",
    "print(user)"
   ]
  },
  {
   "cell_type": "markdown",
   "metadata": {},
   "source": [
    "function to run dynamically for a field"
   ]
  },
  {
   "cell_type": "code",
   "execution_count": 28,
   "metadata": {},
   "outputs": [
    {
     "name": "stdout",
     "output_type": "stream",
     "text": [
      "id='295990db1a01449891ac076bb58cca8f'\n"
     ]
    }
   ],
   "source": [
    "from uuid import uuid4\n",
    "\n",
    "from pydantic import BaseModel, Field\n",
    "\n",
    "class User(BaseModel):\n",
    "    id: int = Field(default_factory=lambda: uuid4().hex)\n",
    "\n",
    "user = User()\n",
    "print(user)"
   ]
  },
  {
   "cell_type": "markdown",
   "metadata": {},
   "source": [
    "Field aliases - For validation and serialization, you can define an alias for a field.\n",
    "\n",
    "There are three ways to define an alias:\n",
    "\n",
    "- `Field(..., alias='foo')`\n",
    "- `Field(..., validation_alias='foo')`\n",
    "- `Field(..., serialization_alias='foo')`"
   ]
  },
  {
   "cell_type": "code",
   "execution_count": 31,
   "metadata": {},
   "outputs": [
    {
     "name": "stdout",
     "output_type": "stream",
     "text": [
      "name='johndoe'\n",
      "{'name': 'johndoe'}\n",
      "\n",
      "\n",
      "name='johndoe'\n",
      "{'username': 'johndoe'}\n"
     ]
    }
   ],
   "source": [
    "from pydantic import BaseModel, Field\n",
    "\n",
    "\n",
    "class User(BaseModel):\n",
    "    name: str = Field(..., alias='username')\n",
    "\n",
    "\n",
    "user = User(username='johndoe')  \n",
    "print(user)\n",
    "print(user.model_dump(by_alias=False))\n",
    "\n",
    "print('\\n')\n",
    "\n",
    "user = User(username='johndoe')  \n",
    "print(user)\n",
    "print(user.model_dump(by_alias=True))"
   ]
  },
  {
   "cell_type": "markdown",
   "metadata": {},
   "source": [
    "But why would you want to do it? For example if you API and database fields differ - you only need one model"
   ]
  },
  {
   "cell_type": "markdown",
   "metadata": {},
   "source": [
    "Lets look at field constraints"
   ]
  },
  {
   "cell_type": "markdown",
   "metadata": {},
   "source": [
    "... means the field is required"
   ]
  },
  {
   "cell_type": "code",
   "execution_count": 32,
   "metadata": {},
   "outputs": [],
   "source": [
    "from typing import List\n",
    "from pydantic import BaseModel, Field, EmailStr\n",
    "from decimal import Decimal\n",
    "\n",
    "class User(BaseModel):\n",
    "    username: str = Field(..., min_length=3, max_length=10, pattern=r'^\\w+$')\n",
    "    email: EmailStr = Field(...)\n",
    "    age: int = Field(..., gt=0, le=120)\n",
    "    height: float = Field(..., gt=0.0)\n",
    "    is_active: bool = Field(True)\n",
    "    balance: Decimal = Field(..., max_digits=10, decimal_places=2)\n",
    "    favorite_numbers: List[int] = Field(..., min_items=1)\n"
   ]
  },
  {
   "cell_type": "code",
   "execution_count": 33,
   "metadata": {},
   "outputs": [
    {
     "name": "stdout",
     "output_type": "stream",
     "text": [
      "username='john_doe' email='john.doe@example.com' age=30 height=5.9 is_active=True balance=Decimal('9999.99') favorite_numbers=[1, 2, 3]\n"
     ]
    }
   ],
   "source": [
    "user_instance = User(\n",
    "    username=\"john_doe\",\n",
    "    age=30,\n",
    "    height=5.9,\n",
    "    weight=160.5,\n",
    "    email=\"john.doe@example.com\",\n",
    "    password=\"securepassword\",\n",
    "    balance=9999.99,\n",
    "    favorite_numbers=[1,2,3]\n",
    ")\n",
    "\n",
    "print(user_instance)"
   ]
  },
  {
   "cell_type": "markdown",
   "metadata": {},
   "source": [
    "Computed Fields"
   ]
  },
  {
   "cell_type": "markdown",
   "metadata": {},
   "source": [
    "used for calculations and adding the field to the data model using @computed_field and @property"
   ]
  },
  {
   "cell_type": "code",
   "execution_count": 34,
   "metadata": {},
   "outputs": [
    {
     "name": "stdout",
     "output_type": "stream",
     "text": [
      "{'name': 'John Doe', 'birth_year': 2000, 'age': 25}\n"
     ]
    }
   ],
   "source": [
    "from pydantic import BaseModel, computed_field\n",
    "from datetime import datetime\n",
    "\n",
    "\n",
    "class Person(BaseModel):\n",
    "    name: str\n",
    "    birth_year: int\n",
    "\n",
    "    @computed_field\n",
    "    @property\n",
    "    def age(self) -> int:\n",
    "        current_year = datetime.now().year\n",
    "        return current_year - self.birth_year\n",
    "\n",
    "\n",
    "print(Person(name=\"John Doe\", birth_year=2000).model_dump())\n"
   ]
  },
  {
   "cell_type": "markdown",
   "metadata": {},
   "source": [
    "validating the field using @classmethod and @field_validator"
   ]
  },
  {
   "cell_type": "code",
   "execution_count": 36,
   "metadata": {},
   "outputs": [
    {
     "name": "stdout",
     "output_type": "stream",
     "text": [
      "name='John Doe' birth_year=2006 age=19\n"
     ]
    }
   ],
   "source": [
    "from pydantic import BaseModel, ValidationError, field_validator\n",
    "from datetime import datetime\n",
    "\n",
    "class Person(BaseModel):\n",
    "    name: str\n",
    "    birth_year: int\n",
    "\n",
    "    @computed_field\n",
    "    @property\n",
    "    def age(self) -> int:\n",
    "        current_year = datetime.now().year\n",
    "        return current_year - self.birth_year\n",
    "\n",
    "    @field_validator('birth_year')\n",
    "    @classmethod\n",
    "    def validate_age(cls, v: int) -> int:\n",
    "        current_year = datetime.now().year\n",
    "        if current_year - v < 18:\n",
    "            raise ValueError('Person must be 18 years or older')\n",
    "        return v\n",
    "\n",
    "try:\n",
    "    print(Person(name=\"John Doe\", birth_year=2006))\n",
    "except ValidationError as e:\n",
    "    print(e)\n"
   ]
  },
  {
   "cell_type": "code",
   "execution_count": 37,
   "metadata": {},
   "outputs": [
    {
     "name": "stdout",
     "output_type": "stream",
     "text": [
      "1 validation error for Person\n",
      "birth_year\n",
      "  Value error, Person must be 18 years or older [type=value_error, input_value=2012, input_type=int]\n",
      "    For further information visit https://errors.pydantic.dev/2.11/v/value_error\n"
     ]
    }
   ],
   "source": [
    "try:\n",
    "    print(Person(name=\"John Doe\", birth_year=2012))\n",
    "except ValidationError as e:\n",
    "    print(e)"
   ]
  },
  {
   "cell_type": "markdown",
   "metadata": {},
   "source": [
    "You also also use dataclasses and pydantics valiation logic - dataclasses do not provide that out of the box"
   ]
  },
  {
   "cell_type": "code",
   "execution_count": 38,
   "metadata": {},
   "outputs": [],
   "source": [
    "from dataclasses import dataclass, field\n",
    "from typing import List, Optional\n",
    "from pydantic import Field, TypeAdapter\n",
    "\n",
    "\n",
    "@dataclass\n",
    "class User:\n",
    "    id: int\n",
    "    name: str = 'John Doe'\n",
    "    age: Optional[int] = field(\n",
    "        default=None,\n",
    "        metadata=dict(title='The age of the user', description='do not lie!', ge=18),\n",
    "    )\n",
    "    height: Optional[int] = Field(None, title='The height in cm', ge=50, le=300)\n",
    "    friends: List[int] = field(default_factory=lambda: [0])\n",
    "\n",
    "\n",
    "\n"
   ]
  },
  {
   "cell_type": "markdown",
   "metadata": {},
   "source": [
    "TypeAdapter\n",
    "\n",
    "You may have types that are not `BaseModels` that you want to validate data against. Or you may want to validate a `List[SomeModel]`, or dump it to JSON.\n",
    "\n",
    "For use cases like this, Pydantic provides `TypeAdapter`, which can be used for type validation, serialization, and JSON schema generation without creating a `BaseModel`.\n"
   ]
  },
  {
   "cell_type": "code",
   "execution_count": 39,
   "metadata": {},
   "outputs": [
    {
     "name": "stdout",
     "output_type": "stream",
     "text": [
      "{'properties': {'id': {'title': 'Id', 'type': 'integer'}, 'name': {'default': 'John Doe', 'title': 'Name', 'type': 'string'}, 'age': {'anyOf': [{'minimum': 18, 'type': 'integer'}, {'type': 'null'}], 'default': None, 'description': 'do not lie!', 'title': 'The age of the user'}, 'height': {'anyOf': [{'maximum': 300, 'minimum': 50, 'type': 'integer'}, {'type': 'null'}], 'default': None, 'title': 'The height in cm'}, 'friends': {'items': {'type': 'integer'}, 'title': 'Friends', 'type': 'array'}}, 'required': ['id'], 'title': 'User', 'type': 'object'}\n"
     ]
    }
   ],
   "source": [
    "# Example of using TypeAdapter to get json_schema of the User dataclass\n",
    "print(TypeAdapter(User).json_schema())"
   ]
  },
  {
   "cell_type": "markdown",
   "metadata": {},
   "source": [
    "### Strict mode\n",
    "\n",
    "Pydantic, by default, tries to coerce values to the declared type, converting inputs like the string \"123\" to integer 123, but this automatic conversion can be undesirable in situations where strict type compliance is required, causing a need for configurations to make Pydantic error out instead."
   ]
  },
  {
   "cell_type": "code",
   "execution_count": 40,
   "metadata": {},
   "outputs": [
    {
     "name": "stdout",
     "output_type": "stream",
     "text": [
      "id=42 username='john_doe'\n"
     ]
    }
   ],
   "source": [
    "from pydantic import BaseModel, ValidationError\n",
    "\n",
    "\n",
    "class User(BaseModel):\n",
    "    id: int\n",
    "    username: str\n",
    "\n",
    "\n",
    "print(User.model_validate({'id': '42', 'username': 'john_doe'}))  # lax mode\n",
    "#> id=42 username='john_doe'"
   ]
  },
  {
   "cell_type": "code",
   "execution_count": 41,
   "metadata": {},
   "outputs": [
    {
     "name": "stdout",
     "output_type": "stream",
     "text": [
      "1 validation error for User\n",
      "id\n",
      "  Input should be a valid integer [type=int_type, input_value='42', input_type=str]\n",
      "    For further information visit https://errors.pydantic.dev/2.11/v/int_type\n"
     ]
    }
   ],
   "source": [
    "try:\n",
    "    User.model_validate({'id': '42', 'username': 'john_doe'}, strict=True)  # strict mode\n",
    "except ValidationError as exc:\n",
    "    print(exc)"
   ]
  },
  {
   "cell_type": "markdown",
   "metadata": {},
   "source": [
    "Settings Management \n",
    "\n",
    "Pydantic Settings provides optional Pydantic features for loading a settings or config class from environment variables or secrets files."
   ]
  },
  {
   "cell_type": "code",
   "execution_count": 43,
   "metadata": {},
   "outputs": [
    {
     "name": "stdout",
     "output_type": "stream",
     "text": [
      "Requirement already satisfied: pydantic-settings in ./.pydantic/lib/python3.11/site-packages (2.10.1)\n",
      "Requirement already satisfied: pydantic>=2.7.0 in ./.pydantic/lib/python3.11/site-packages (from pydantic-settings) (2.11.7)\n",
      "Requirement already satisfied: python-dotenv>=0.21.0 in ./.pydantic/lib/python3.11/site-packages (from pydantic-settings) (1.1.1)\n",
      "Requirement already satisfied: typing-inspection>=0.4.0 in ./.pydantic/lib/python3.11/site-packages (from pydantic-settings) (0.4.1)\n",
      "Requirement already satisfied: annotated-types>=0.6.0 in ./.pydantic/lib/python3.11/site-packages (from pydantic>=2.7.0->pydantic-settings) (0.7.0)\n",
      "Requirement already satisfied: pydantic-core==2.33.2 in ./.pydantic/lib/python3.11/site-packages (from pydantic>=2.7.0->pydantic-settings) (2.33.2)\n",
      "Requirement already satisfied: typing-extensions>=4.12.2 in ./.pydantic/lib/python3.11/site-packages (from pydantic>=2.7.0->pydantic-settings) (4.15.0)\n",
      "\n",
      "\u001b[1m[\u001b[0m\u001b[34;49mnotice\u001b[0m\u001b[1;39;49m]\u001b[0m\u001b[39;49m A new release of pip is available: \u001b[0m\u001b[31;49m25.1.1\u001b[0m\u001b[39;49m -> \u001b[0m\u001b[32;49m25.2\u001b[0m\n",
      "\u001b[1m[\u001b[0m\u001b[34;49mnotice\u001b[0m\u001b[1;39;49m]\u001b[0m\u001b[39;49m To update, run: \u001b[0m\u001b[32;49mpip install --upgrade pip\u001b[0m\n"
     ]
    }
   ],
   "source": [
    "!pip install pydantic-settings"
   ]
  },
  {
   "cell_type": "code",
   "execution_count": 4,
   "metadata": {},
   "outputs": [
    {
     "ename": "ValidationError",
     "evalue": "1 validation error for Settings\nmy_auth_key\n  Field required [type=missing, input_value={'my_api_key': 'test'}, input_type=dict]\n    For further information visit https://errors.pydantic.dev/2.11/v/missing",
     "output_type": "error",
     "traceback": [
      "\u001b[31m---------------------------------------------------------------------------\u001b[39m",
      "\u001b[31mValidationError\u001b[39m                           Traceback (most recent call last)",
      "\u001b[36mCell\u001b[39m\u001b[36m \u001b[39m\u001b[32mIn[4]\u001b[39m\u001b[32m, line 11\u001b[39m\n\u001b[32m      7\u001b[39m     auth_key: \u001b[38;5;28mstr\u001b[39m = Field(validation_alias=\u001b[33m'\u001b[39m\u001b[33mmy_auth_key\u001b[39m\u001b[33m'\u001b[39m)  \n\u001b[32m      8\u001b[39m     api_key: \u001b[38;5;28mstr\u001b[39m = Field(alias=\u001b[33m'\u001b[39m\u001b[33mmy_api_key\u001b[39m\u001b[33m'\u001b[39m)  \n\u001b[32m---> \u001b[39m\u001b[32m11\u001b[39m \u001b[38;5;28mprint\u001b[39m(\u001b[43mSettings\u001b[49m\u001b[43m(\u001b[49m\u001b[43m)\u001b[49m.model_dump())\n",
      "\u001b[36mFile \u001b[39m\u001b[32m~/Desktop/pydantic/.pydantic/lib/python3.11/site-packages/pydantic_settings/main.py:188\u001b[39m, in \u001b[36mBaseSettings.__init__\u001b[39m\u001b[34m(__pydantic_self__, _case_sensitive, _nested_model_default_partial_update, _env_prefix, _env_file, _env_file_encoding, _env_ignore_empty, _env_nested_delimiter, _env_nested_max_split, _env_parse_none_str, _env_parse_enums, _cli_prog_name, _cli_parse_args, _cli_settings_source, _cli_parse_none_str, _cli_hide_none_type, _cli_avoid_json, _cli_enforce_required, _cli_use_class_docs_for_groups, _cli_exit_on_error, _cli_prefix, _cli_flag_prefix_char, _cli_implicit_flags, _cli_ignore_unknown_args, _cli_kebab_case, _cli_shortcuts, _secrets_dir, **values)\u001b[39m\n\u001b[32m    158\u001b[39m \u001b[38;5;28;01mdef\u001b[39;00m\u001b[38;5;250m \u001b[39m\u001b[34m__init__\u001b[39m(\n\u001b[32m    159\u001b[39m     __pydantic_self__,\n\u001b[32m    160\u001b[39m     _case_sensitive: \u001b[38;5;28mbool\u001b[39m | \u001b[38;5;28;01mNone\u001b[39;00m = \u001b[38;5;28;01mNone\u001b[39;00m,\n\u001b[32m   (...)\u001b[39m\u001b[32m    186\u001b[39m     **values: Any,\n\u001b[32m    187\u001b[39m ) -> \u001b[38;5;28;01mNone\u001b[39;00m:\n\u001b[32m--> \u001b[39m\u001b[32m188\u001b[39m     \u001b[38;5;28;43msuper\u001b[39;49m\u001b[43m(\u001b[49m\u001b[43m)\u001b[49m\u001b[43m.\u001b[49m\u001b[34;43m__init__\u001b[39;49m\u001b[43m(\u001b[49m\n\u001b[32m    189\u001b[39m \u001b[43m        \u001b[49m\u001b[43m*\u001b[49m\u001b[43m*\u001b[49m\u001b[43m__pydantic_self__\u001b[49m\u001b[43m.\u001b[49m\u001b[43m_settings_build_values\u001b[49m\u001b[43m(\u001b[49m\n\u001b[32m    190\u001b[39m \u001b[43m            \u001b[49m\u001b[43mvalues\u001b[49m\u001b[43m,\u001b[49m\n\u001b[32m    191\u001b[39m \u001b[43m            \u001b[49m\u001b[43m_case_sensitive\u001b[49m\u001b[43m=\u001b[49m\u001b[43m_case_sensitive\u001b[49m\u001b[43m,\u001b[49m\n\u001b[32m    192\u001b[39m \u001b[43m            \u001b[49m\u001b[43m_nested_model_default_partial_update\u001b[49m\u001b[43m=\u001b[49m\u001b[43m_nested_model_default_partial_update\u001b[49m\u001b[43m,\u001b[49m\n\u001b[32m    193\u001b[39m \u001b[43m            \u001b[49m\u001b[43m_env_prefix\u001b[49m\u001b[43m=\u001b[49m\u001b[43m_env_prefix\u001b[49m\u001b[43m,\u001b[49m\n\u001b[32m    194\u001b[39m \u001b[43m            \u001b[49m\u001b[43m_env_file\u001b[49m\u001b[43m=\u001b[49m\u001b[43m_env_file\u001b[49m\u001b[43m,\u001b[49m\n\u001b[32m    195\u001b[39m \u001b[43m            \u001b[49m\u001b[43m_env_file_encoding\u001b[49m\u001b[43m=\u001b[49m\u001b[43m_env_file_encoding\u001b[49m\u001b[43m,\u001b[49m\n\u001b[32m    196\u001b[39m \u001b[43m            \u001b[49m\u001b[43m_env_ignore_empty\u001b[49m\u001b[43m=\u001b[49m\u001b[43m_env_ignore_empty\u001b[49m\u001b[43m,\u001b[49m\n\u001b[32m    197\u001b[39m \u001b[43m            \u001b[49m\u001b[43m_env_nested_delimiter\u001b[49m\u001b[43m=\u001b[49m\u001b[43m_env_nested_delimiter\u001b[49m\u001b[43m,\u001b[49m\n\u001b[32m    198\u001b[39m \u001b[43m            \u001b[49m\u001b[43m_env_nested_max_split\u001b[49m\u001b[43m=\u001b[49m\u001b[43m_env_nested_max_split\u001b[49m\u001b[43m,\u001b[49m\n\u001b[32m    199\u001b[39m \u001b[43m            \u001b[49m\u001b[43m_env_parse_none_str\u001b[49m\u001b[43m=\u001b[49m\u001b[43m_env_parse_none_str\u001b[49m\u001b[43m,\u001b[49m\n\u001b[32m    200\u001b[39m \u001b[43m            \u001b[49m\u001b[43m_env_parse_enums\u001b[49m\u001b[43m=\u001b[49m\u001b[43m_env_parse_enums\u001b[49m\u001b[43m,\u001b[49m\n\u001b[32m    201\u001b[39m \u001b[43m            \u001b[49m\u001b[43m_cli_prog_name\u001b[49m\u001b[43m=\u001b[49m\u001b[43m_cli_prog_name\u001b[49m\u001b[43m,\u001b[49m\n\u001b[32m    202\u001b[39m \u001b[43m            \u001b[49m\u001b[43m_cli_parse_args\u001b[49m\u001b[43m=\u001b[49m\u001b[43m_cli_parse_args\u001b[49m\u001b[43m,\u001b[49m\n\u001b[32m    203\u001b[39m \u001b[43m            \u001b[49m\u001b[43m_cli_settings_source\u001b[49m\u001b[43m=\u001b[49m\u001b[43m_cli_settings_source\u001b[49m\u001b[43m,\u001b[49m\n\u001b[32m    204\u001b[39m \u001b[43m            \u001b[49m\u001b[43m_cli_parse_none_str\u001b[49m\u001b[43m=\u001b[49m\u001b[43m_cli_parse_none_str\u001b[49m\u001b[43m,\u001b[49m\n\u001b[32m    205\u001b[39m \u001b[43m            \u001b[49m\u001b[43m_cli_hide_none_type\u001b[49m\u001b[43m=\u001b[49m\u001b[43m_cli_hide_none_type\u001b[49m\u001b[43m,\u001b[49m\n\u001b[32m    206\u001b[39m \u001b[43m            \u001b[49m\u001b[43m_cli_avoid_json\u001b[49m\u001b[43m=\u001b[49m\u001b[43m_cli_avoid_json\u001b[49m\u001b[43m,\u001b[49m\n\u001b[32m    207\u001b[39m \u001b[43m            \u001b[49m\u001b[43m_cli_enforce_required\u001b[49m\u001b[43m=\u001b[49m\u001b[43m_cli_enforce_required\u001b[49m\u001b[43m,\u001b[49m\n\u001b[32m    208\u001b[39m \u001b[43m            \u001b[49m\u001b[43m_cli_use_class_docs_for_groups\u001b[49m\u001b[43m=\u001b[49m\u001b[43m_cli_use_class_docs_for_groups\u001b[49m\u001b[43m,\u001b[49m\n\u001b[32m    209\u001b[39m \u001b[43m            \u001b[49m\u001b[43m_cli_exit_on_error\u001b[49m\u001b[43m=\u001b[49m\u001b[43m_cli_exit_on_error\u001b[49m\u001b[43m,\u001b[49m\n\u001b[32m    210\u001b[39m \u001b[43m            \u001b[49m\u001b[43m_cli_prefix\u001b[49m\u001b[43m=\u001b[49m\u001b[43m_cli_prefix\u001b[49m\u001b[43m,\u001b[49m\n\u001b[32m    211\u001b[39m \u001b[43m            \u001b[49m\u001b[43m_cli_flag_prefix_char\u001b[49m\u001b[43m=\u001b[49m\u001b[43m_cli_flag_prefix_char\u001b[49m\u001b[43m,\u001b[49m\n\u001b[32m    212\u001b[39m \u001b[43m            \u001b[49m\u001b[43m_cli_implicit_flags\u001b[49m\u001b[43m=\u001b[49m\u001b[43m_cli_implicit_flags\u001b[49m\u001b[43m,\u001b[49m\n\u001b[32m    213\u001b[39m \u001b[43m            \u001b[49m\u001b[43m_cli_ignore_unknown_args\u001b[49m\u001b[43m=\u001b[49m\u001b[43m_cli_ignore_unknown_args\u001b[49m\u001b[43m,\u001b[49m\n\u001b[32m    214\u001b[39m \u001b[43m            \u001b[49m\u001b[43m_cli_kebab_case\u001b[49m\u001b[43m=\u001b[49m\u001b[43m_cli_kebab_case\u001b[49m\u001b[43m,\u001b[49m\n\u001b[32m    215\u001b[39m \u001b[43m            \u001b[49m\u001b[43m_cli_shortcuts\u001b[49m\u001b[43m=\u001b[49m\u001b[43m_cli_shortcuts\u001b[49m\u001b[43m,\u001b[49m\n\u001b[32m    216\u001b[39m \u001b[43m            \u001b[49m\u001b[43m_secrets_dir\u001b[49m\u001b[43m=\u001b[49m\u001b[43m_secrets_dir\u001b[49m\u001b[43m,\u001b[49m\n\u001b[32m    217\u001b[39m \u001b[43m        \u001b[49m\u001b[43m)\u001b[49m\n\u001b[32m    218\u001b[39m \u001b[43m    \u001b[49m\u001b[43m)\u001b[49m\n",
      "\u001b[36mFile \u001b[39m\u001b[32m~/Desktop/pydantic/.pydantic/lib/python3.11/site-packages/pydantic/main.py:253\u001b[39m, in \u001b[36mBaseModel.__init__\u001b[39m\u001b[34m(self, **data)\u001b[39m\n\u001b[32m    251\u001b[39m \u001b[38;5;66;03m# `__tracebackhide__` tells pytest and some other tools to omit this function from tracebacks\u001b[39;00m\n\u001b[32m    252\u001b[39m __tracebackhide__ = \u001b[38;5;28;01mTrue\u001b[39;00m\n\u001b[32m--> \u001b[39m\u001b[32m253\u001b[39m validated_self = \u001b[38;5;28;43mself\u001b[39;49m\u001b[43m.\u001b[49m\u001b[43m__pydantic_validator__\u001b[49m\u001b[43m.\u001b[49m\u001b[43mvalidate_python\u001b[49m\u001b[43m(\u001b[49m\u001b[43mdata\u001b[49m\u001b[43m,\u001b[49m\u001b[43m \u001b[49m\u001b[43mself_instance\u001b[49m\u001b[43m=\u001b[49m\u001b[38;5;28;43mself\u001b[39;49m\u001b[43m)\u001b[49m\n\u001b[32m    254\u001b[39m \u001b[38;5;28;01mif\u001b[39;00m \u001b[38;5;28mself\u001b[39m \u001b[38;5;129;01mis\u001b[39;00m \u001b[38;5;129;01mnot\u001b[39;00m validated_self:\n\u001b[32m    255\u001b[39m     warnings.warn(\n\u001b[32m    256\u001b[39m         \u001b[33m'\u001b[39m\u001b[33mA custom validator is returning a value other than `self`.\u001b[39m\u001b[38;5;130;01m\\n\u001b[39;00m\u001b[33m'\u001b[39m\n\u001b[32m    257\u001b[39m         \u001b[33m\"\u001b[39m\u001b[33mReturning anything other than `self` from a top level model validator isn\u001b[39m\u001b[33m'\u001b[39m\u001b[33mt supported when validating via `__init__`.\u001b[39m\u001b[38;5;130;01m\\n\u001b[39;00m\u001b[33m\"\u001b[39m\n\u001b[32m    258\u001b[39m         \u001b[33m'\u001b[39m\u001b[33mSee the `model_validator` docs (https://docs.pydantic.dev/latest/concepts/validators/#model-validators) for more details.\u001b[39m\u001b[33m'\u001b[39m,\n\u001b[32m    259\u001b[39m         stacklevel=\u001b[32m2\u001b[39m,\n\u001b[32m    260\u001b[39m     )\n",
      "\u001b[31mValidationError\u001b[39m: 1 validation error for Settings\nmy_auth_key\n  Field required [type=missing, input_value={'my_api_key': 'test'}, input_type=dict]\n    For further information visit https://errors.pydantic.dev/2.11/v/missing"
     ]
    }
   ],
   "source": [
    "import os\n",
    "from pydantic import Field\n",
    "from pydantic_settings import BaseSettings\n",
    "\n",
    "\n",
    "class Settings(BaseSettings):\n",
    "    auth_key: str = Field(validation_alias='my_auth_key')  \n",
    "    api_key: str = Field(alias='my_api_key')  \n",
    "    \n",
    "\n",
    "print(Settings().model_dump())"
   ]
  },
  {
   "cell_type": "code",
   "execution_count": 5,
   "metadata": {},
   "outputs": [
    {
     "name": "stdout",
     "output_type": "stream",
     "text": [
      "{'service_name': 'default', 'auth_key': 'test_auth_key', 'api_key': 'test', 'url': 'https://mysuperurl.com'}\n"
     ]
    }
   ],
   "source": [
    "import os\n",
    "from pydantic import Field, AliasChoices\n",
    "from pydantic_settings import BaseSettings\n",
    "\n",
    "os.environ[\"AUTH_KEY\"] = \"test_auth_key\"\n",
    "os.environ[\"MY_API_KEY\"] = \"test\"\n",
    "os.environ[\"ENV2\"] = \"https://mysuperurl.com\"\n",
    "\n",
    "\n",
    "class Settings(BaseSettings):\n",
    "    service_name: str = Field(default=\"default\")\n",
    "    auth_key: str  \n",
    "    api_key: str = Field(alias='my_api_key')  \n",
    "    url: str = Field(validation_alias=AliasChoices(\"env1\", \"env2\"))\n",
    "     \n",
    "\n",
    "print(Settings().model_dump())"
   ]
  },
  {
   "cell_type": "code",
   "execution_count": 6,
   "metadata": {},
   "outputs": [
    {
     "name": "stdout",
     "output_type": "stream",
     "text": [
      "{'service_name': 'default', 'auth_key': 'test_auth_key', 'api_key': 'test', 'url': 'https://mysuperurl.com'}\n"
     ]
    }
   ],
   "source": [
    "import os\n",
    "from pydantic import Field\n",
    "from pydantic_settings import BaseSettings, SettingsConfigDict\n",
    "\n",
    "# Set environment variables with the prefix\n",
    "os.environ[\"PRODUCTION_AUTH_KEY\"] = \"test_auth_key\"\n",
    "os.environ[\"PRODUCTION_MY_API_KEY\"] = \"test\"\n",
    "os.environ[\"PRODUCTION_ENV2\"] = \"https://mysuperurl.com\"\n",
    "\n",
    "\n",
    "class Settings(BaseSettings):\n",
    "    model_config = SettingsConfigDict(env_prefix='production_')\n",
    "\n",
    "    service_name: str = Field(default=\"default\")\n",
    "    auth_key: str\n",
    "    api_key: str = Field(alias='my_api_key')\n",
    "    url: str = Field(validation_alias=AliasChoices(\"env1\", \"env2\"))\n",
    "\n",
    "print(Settings().model_dump())\n"
   ]
  },
  {
   "cell_type": "markdown",
   "metadata": {},
   "source": [
    "You can also use a .env file"
   ]
  },
  {
   "cell_type": "code",
   "execution_count": 7,
   "metadata": {},
   "outputs": [
    {
     "ename": "ValidationError",
     "evalue": "1 validation error for Settings\nenv2\n  Extra inputs are not permitted [type=extra_forbidden, input_value='https://envurl.com', input_type=str]\n    For further information visit https://errors.pydantic.dev/2.11/v/extra_forbidden",
     "output_type": "error",
     "traceback": [
      "\u001b[31m---------------------------------------------------------------------------\u001b[39m",
      "\u001b[31mValidationError\u001b[39m                           Traceback (most recent call last)",
      "\u001b[36mCell\u001b[39m\u001b[36m \u001b[39m\u001b[32mIn[7]\u001b[39m\u001b[32m, line 13\u001b[39m\n\u001b[32m      9\u001b[39m     auth_key: \u001b[38;5;28mstr\u001b[39m  \n\u001b[32m     10\u001b[39m     api_key: \u001b[38;5;28mstr\u001b[39m = Field(alias=\u001b[33m'\u001b[39m\u001b[33mmy_api_key\u001b[39m\u001b[33m'\u001b[39m)  \n\u001b[32m---> \u001b[39m\u001b[32m13\u001b[39m \u001b[38;5;28mprint\u001b[39m(\u001b[43mSettings\u001b[49m\u001b[43m(\u001b[49m\u001b[43m)\u001b[49m.model_dump())\n",
      "\u001b[36mFile \u001b[39m\u001b[32m~/Desktop/pydantic/.pydantic/lib/python3.11/site-packages/pydantic_settings/main.py:188\u001b[39m, in \u001b[36mBaseSettings.__init__\u001b[39m\u001b[34m(__pydantic_self__, _case_sensitive, _nested_model_default_partial_update, _env_prefix, _env_file, _env_file_encoding, _env_ignore_empty, _env_nested_delimiter, _env_nested_max_split, _env_parse_none_str, _env_parse_enums, _cli_prog_name, _cli_parse_args, _cli_settings_source, _cli_parse_none_str, _cli_hide_none_type, _cli_avoid_json, _cli_enforce_required, _cli_use_class_docs_for_groups, _cli_exit_on_error, _cli_prefix, _cli_flag_prefix_char, _cli_implicit_flags, _cli_ignore_unknown_args, _cli_kebab_case, _cli_shortcuts, _secrets_dir, **values)\u001b[39m\n\u001b[32m    158\u001b[39m \u001b[38;5;28;01mdef\u001b[39;00m\u001b[38;5;250m \u001b[39m\u001b[34m__init__\u001b[39m(\n\u001b[32m    159\u001b[39m     __pydantic_self__,\n\u001b[32m    160\u001b[39m     _case_sensitive: \u001b[38;5;28mbool\u001b[39m | \u001b[38;5;28;01mNone\u001b[39;00m = \u001b[38;5;28;01mNone\u001b[39;00m,\n\u001b[32m   (...)\u001b[39m\u001b[32m    186\u001b[39m     **values: Any,\n\u001b[32m    187\u001b[39m ) -> \u001b[38;5;28;01mNone\u001b[39;00m:\n\u001b[32m--> \u001b[39m\u001b[32m188\u001b[39m     \u001b[38;5;28;43msuper\u001b[39;49m\u001b[43m(\u001b[49m\u001b[43m)\u001b[49m\u001b[43m.\u001b[49m\u001b[34;43m__init__\u001b[39;49m\u001b[43m(\u001b[49m\n\u001b[32m    189\u001b[39m \u001b[43m        \u001b[49m\u001b[43m*\u001b[49m\u001b[43m*\u001b[49m\u001b[43m__pydantic_self__\u001b[49m\u001b[43m.\u001b[49m\u001b[43m_settings_build_values\u001b[49m\u001b[43m(\u001b[49m\n\u001b[32m    190\u001b[39m \u001b[43m            \u001b[49m\u001b[43mvalues\u001b[49m\u001b[43m,\u001b[49m\n\u001b[32m    191\u001b[39m \u001b[43m            \u001b[49m\u001b[43m_case_sensitive\u001b[49m\u001b[43m=\u001b[49m\u001b[43m_case_sensitive\u001b[49m\u001b[43m,\u001b[49m\n\u001b[32m    192\u001b[39m \u001b[43m            \u001b[49m\u001b[43m_nested_model_default_partial_update\u001b[49m\u001b[43m=\u001b[49m\u001b[43m_nested_model_default_partial_update\u001b[49m\u001b[43m,\u001b[49m\n\u001b[32m    193\u001b[39m \u001b[43m            \u001b[49m\u001b[43m_env_prefix\u001b[49m\u001b[43m=\u001b[49m\u001b[43m_env_prefix\u001b[49m\u001b[43m,\u001b[49m\n\u001b[32m    194\u001b[39m \u001b[43m            \u001b[49m\u001b[43m_env_file\u001b[49m\u001b[43m=\u001b[49m\u001b[43m_env_file\u001b[49m\u001b[43m,\u001b[49m\n\u001b[32m    195\u001b[39m \u001b[43m            \u001b[49m\u001b[43m_env_file_encoding\u001b[49m\u001b[43m=\u001b[49m\u001b[43m_env_file_encoding\u001b[49m\u001b[43m,\u001b[49m\n\u001b[32m    196\u001b[39m \u001b[43m            \u001b[49m\u001b[43m_env_ignore_empty\u001b[49m\u001b[43m=\u001b[49m\u001b[43m_env_ignore_empty\u001b[49m\u001b[43m,\u001b[49m\n\u001b[32m    197\u001b[39m \u001b[43m            \u001b[49m\u001b[43m_env_nested_delimiter\u001b[49m\u001b[43m=\u001b[49m\u001b[43m_env_nested_delimiter\u001b[49m\u001b[43m,\u001b[49m\n\u001b[32m    198\u001b[39m \u001b[43m            \u001b[49m\u001b[43m_env_nested_max_split\u001b[49m\u001b[43m=\u001b[49m\u001b[43m_env_nested_max_split\u001b[49m\u001b[43m,\u001b[49m\n\u001b[32m    199\u001b[39m \u001b[43m            \u001b[49m\u001b[43m_env_parse_none_str\u001b[49m\u001b[43m=\u001b[49m\u001b[43m_env_parse_none_str\u001b[49m\u001b[43m,\u001b[49m\n\u001b[32m    200\u001b[39m \u001b[43m            \u001b[49m\u001b[43m_env_parse_enums\u001b[49m\u001b[43m=\u001b[49m\u001b[43m_env_parse_enums\u001b[49m\u001b[43m,\u001b[49m\n\u001b[32m    201\u001b[39m \u001b[43m            \u001b[49m\u001b[43m_cli_prog_name\u001b[49m\u001b[43m=\u001b[49m\u001b[43m_cli_prog_name\u001b[49m\u001b[43m,\u001b[49m\n\u001b[32m    202\u001b[39m \u001b[43m            \u001b[49m\u001b[43m_cli_parse_args\u001b[49m\u001b[43m=\u001b[49m\u001b[43m_cli_parse_args\u001b[49m\u001b[43m,\u001b[49m\n\u001b[32m    203\u001b[39m \u001b[43m            \u001b[49m\u001b[43m_cli_settings_source\u001b[49m\u001b[43m=\u001b[49m\u001b[43m_cli_settings_source\u001b[49m\u001b[43m,\u001b[49m\n\u001b[32m    204\u001b[39m \u001b[43m            \u001b[49m\u001b[43m_cli_parse_none_str\u001b[49m\u001b[43m=\u001b[49m\u001b[43m_cli_parse_none_str\u001b[49m\u001b[43m,\u001b[49m\n\u001b[32m    205\u001b[39m \u001b[43m            \u001b[49m\u001b[43m_cli_hide_none_type\u001b[49m\u001b[43m=\u001b[49m\u001b[43m_cli_hide_none_type\u001b[49m\u001b[43m,\u001b[49m\n\u001b[32m    206\u001b[39m \u001b[43m            \u001b[49m\u001b[43m_cli_avoid_json\u001b[49m\u001b[43m=\u001b[49m\u001b[43m_cli_avoid_json\u001b[49m\u001b[43m,\u001b[49m\n\u001b[32m    207\u001b[39m \u001b[43m            \u001b[49m\u001b[43m_cli_enforce_required\u001b[49m\u001b[43m=\u001b[49m\u001b[43m_cli_enforce_required\u001b[49m\u001b[43m,\u001b[49m\n\u001b[32m    208\u001b[39m \u001b[43m            \u001b[49m\u001b[43m_cli_use_class_docs_for_groups\u001b[49m\u001b[43m=\u001b[49m\u001b[43m_cli_use_class_docs_for_groups\u001b[49m\u001b[43m,\u001b[49m\n\u001b[32m    209\u001b[39m \u001b[43m            \u001b[49m\u001b[43m_cli_exit_on_error\u001b[49m\u001b[43m=\u001b[49m\u001b[43m_cli_exit_on_error\u001b[49m\u001b[43m,\u001b[49m\n\u001b[32m    210\u001b[39m \u001b[43m            \u001b[49m\u001b[43m_cli_prefix\u001b[49m\u001b[43m=\u001b[49m\u001b[43m_cli_prefix\u001b[49m\u001b[43m,\u001b[49m\n\u001b[32m    211\u001b[39m \u001b[43m            \u001b[49m\u001b[43m_cli_flag_prefix_char\u001b[49m\u001b[43m=\u001b[49m\u001b[43m_cli_flag_prefix_char\u001b[49m\u001b[43m,\u001b[49m\n\u001b[32m    212\u001b[39m \u001b[43m            \u001b[49m\u001b[43m_cli_implicit_flags\u001b[49m\u001b[43m=\u001b[49m\u001b[43m_cli_implicit_flags\u001b[49m\u001b[43m,\u001b[49m\n\u001b[32m    213\u001b[39m \u001b[43m            \u001b[49m\u001b[43m_cli_ignore_unknown_args\u001b[49m\u001b[43m=\u001b[49m\u001b[43m_cli_ignore_unknown_args\u001b[49m\u001b[43m,\u001b[49m\n\u001b[32m    214\u001b[39m \u001b[43m            \u001b[49m\u001b[43m_cli_kebab_case\u001b[49m\u001b[43m=\u001b[49m\u001b[43m_cli_kebab_case\u001b[49m\u001b[43m,\u001b[49m\n\u001b[32m    215\u001b[39m \u001b[43m            \u001b[49m\u001b[43m_cli_shortcuts\u001b[49m\u001b[43m=\u001b[49m\u001b[43m_cli_shortcuts\u001b[49m\u001b[43m,\u001b[49m\n\u001b[32m    216\u001b[39m \u001b[43m            \u001b[49m\u001b[43m_secrets_dir\u001b[49m\u001b[43m=\u001b[49m\u001b[43m_secrets_dir\u001b[49m\u001b[43m,\u001b[49m\n\u001b[32m    217\u001b[39m \u001b[43m        \u001b[49m\u001b[43m)\u001b[49m\n\u001b[32m    218\u001b[39m \u001b[43m    \u001b[49m\u001b[43m)\u001b[49m\n",
      "\u001b[36mFile \u001b[39m\u001b[32m~/Desktop/pydantic/.pydantic/lib/python3.11/site-packages/pydantic/main.py:253\u001b[39m, in \u001b[36mBaseModel.__init__\u001b[39m\u001b[34m(self, **data)\u001b[39m\n\u001b[32m    251\u001b[39m \u001b[38;5;66;03m# `__tracebackhide__` tells pytest and some other tools to omit this function from tracebacks\u001b[39;00m\n\u001b[32m    252\u001b[39m __tracebackhide__ = \u001b[38;5;28;01mTrue\u001b[39;00m\n\u001b[32m--> \u001b[39m\u001b[32m253\u001b[39m validated_self = \u001b[38;5;28;43mself\u001b[39;49m\u001b[43m.\u001b[49m\u001b[43m__pydantic_validator__\u001b[49m\u001b[43m.\u001b[49m\u001b[43mvalidate_python\u001b[49m\u001b[43m(\u001b[49m\u001b[43mdata\u001b[49m\u001b[43m,\u001b[49m\u001b[43m \u001b[49m\u001b[43mself_instance\u001b[49m\u001b[43m=\u001b[49m\u001b[38;5;28;43mself\u001b[39;49m\u001b[43m)\u001b[49m\n\u001b[32m    254\u001b[39m \u001b[38;5;28;01mif\u001b[39;00m \u001b[38;5;28mself\u001b[39m \u001b[38;5;129;01mis\u001b[39;00m \u001b[38;5;129;01mnot\u001b[39;00m validated_self:\n\u001b[32m    255\u001b[39m     warnings.warn(\n\u001b[32m    256\u001b[39m         \u001b[33m'\u001b[39m\u001b[33mA custom validator is returning a value other than `self`.\u001b[39m\u001b[38;5;130;01m\\n\u001b[39;00m\u001b[33m'\u001b[39m\n\u001b[32m    257\u001b[39m         \u001b[33m\"\u001b[39m\u001b[33mReturning anything other than `self` from a top level model validator isn\u001b[39m\u001b[33m'\u001b[39m\u001b[33mt supported when validating via `__init__`.\u001b[39m\u001b[38;5;130;01m\\n\u001b[39;00m\u001b[33m\"\u001b[39m\n\u001b[32m    258\u001b[39m         \u001b[33m'\u001b[39m\u001b[33mSee the `model_validator` docs (https://docs.pydantic.dev/latest/concepts/validators/#model-validators) for more details.\u001b[39m\u001b[33m'\u001b[39m,\n\u001b[32m    259\u001b[39m         stacklevel=\u001b[32m2\u001b[39m,\n\u001b[32m    260\u001b[39m     )\n",
      "\u001b[31mValidationError\u001b[39m: 1 validation error for Settings\nenv2\n  Extra inputs are not permitted [type=extra_forbidden, input_value='https://envurl.com', input_type=str]\n    For further information visit https://errors.pydantic.dev/2.11/v/extra_forbidden"
     ]
    }
   ],
   "source": [
    "from pydantic_settings import BaseSettings, SettingsConfigDict\n",
    "\n",
    "\n",
    "class Settings(BaseSettings):\n",
    "\n",
    "    model_config = SettingsConfigDict(env_file='.env', env_file_encoding='utf-8')\n",
    "\n",
    "    service_name: str = Field(default=\"default\")\n",
    "    auth_key: str  \n",
    "    api_key: str = Field(alias='my_api_key')  \n",
    "     \n",
    "\n",
    "print(Settings().model_dump())"
   ]
  },
  {
   "cell_type": "markdown",
   "metadata": {},
   "source": [
    "Extra attributes (https://docs.pydantic.dev/2.3/usage/model_config/#extra-attributes)"
   ]
  },
  {
   "cell_type": "code",
   "execution_count": 8,
   "metadata": {},
   "outputs": [
    {
     "name": "stdout",
     "output_type": "stream",
     "text": [
      "{'service_name': 'default', 'auth_key': 'test_auth_key', 'api_key': 'test'}\n"
     ]
    }
   ],
   "source": [
    "from pydantic_settings import BaseSettings, SettingsConfigDict\n",
    "\n",
    "\n",
    "class Settings(BaseSettings):\n",
    "\n",
    "    model_config = SettingsConfigDict(env_file='.env', env_file_encoding='utf-8', extra=\"ignore\") # forbid, allow\n",
    "\n",
    "    service_name: str = Field(default=\"default\")\n",
    "    auth_key: str  \n",
    "    api_key: str = Field(alias='my_api_key')  \n",
    "     \n",
    "\n",
    "print(Settings().model_dump())"
   ]
  },
  {
   "cell_type": "code",
   "execution_count": null,
   "metadata": {},
   "outputs": [],
   "source": []
  }
 ],
 "metadata": {
  "kernelspec": {
   "display_name": ".pydantic (3.11.13)",
   "language": "python",
   "name": "python3"
  },
  "language_info": {
   "codemirror_mode": {
    "name": "ipython",
    "version": 3
   },
   "file_extension": ".py",
   "mimetype": "text/x-python",
   "name": "python",
   "nbconvert_exporter": "python",
   "pygments_lexer": "ipython3",
   "version": "3.11.13"
  },
  "orig_nbformat": 4
 },
 "nbformat": 4,
 "nbformat_minor": 2
}

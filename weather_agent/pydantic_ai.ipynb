{
 "cells": [
  {
   "cell_type": "code",
   "execution_count": 1,
   "id": "a1891822",
   "metadata": {},
   "outputs": [],
   "source": [
    "from __future__ import annotations as _annotations\n",
    "\n",
    "from load_models import MODEL\n",
    "from typing_extensions import TypedDict\n",
    "\n",
    "import asyncio\n",
    "from dataclasses import dataclass\n",
    "from typing import Any, List\n",
    "\n",
    "import logfire\n",
    "from httpx import AsyncClient\n",
    "from pydantic import BaseModel\n",
    "\n",
    "from pydantic_ai import Agent, RunContext\n",
    "import nest_asyncio\n",
    "nest_asyncio.apply()\n",
    "\n",
    "from pydantic_ai.models.google import GoogleModelSettings\n",
    "\n",
    "\n",
    "\n",
    "# 'if-token-present' means nothing will be sent (and the example will work) if you don't have logfire configured\n",
    "logfire.configure(send_to_logfire='if-token-present')\n",
    "logfire.instrument_pydantic_ai()\n",
    "\n",
    "#\n",
    "settings = GoogleModelSettings(google_thinking_config={'include_thoughts': True})\n"
   ]
  },
  {
   "cell_type": "code",
   "execution_count": 2,
   "id": "921d0047",
   "metadata": {},
   "outputs": [],
   "source": [
    "@dataclass\n",
    "class Deps:\n",
    "    client: AsyncClient\n"
   ]
  },
  {
   "cell_type": "code",
   "execution_count": 3,
   "id": "f4ed4ec4",
   "metadata": {},
   "outputs": [],
   "source": [
    "class WeatherTemp(BaseModel):\n",
    "    city: str\n",
    "    weather: str\n",
    "    temperature: str\n",
    "    sentiment: str"
   ]
  },
  {
   "cell_type": "code",
   "execution_count": 4,
   "id": "7cff7c6b",
   "metadata": {},
   "outputs": [],
   "source": [
    "class LatLng(BaseModel):\n",
    "    lat: float\n",
    "    lng: float"
   ]
  },
  {
   "cell_type": "code",
   "execution_count": 5,
   "id": "79e6e158",
   "metadata": {},
   "outputs": [],
   "source": [
    "weather_agent = Agent(\n",
    "    name='Weather Agent',\n",
    "    model=MODEL,\n",
    "    system_prompt=(\n",
    "        'Use the `get_lat_lng` tool to get the latitude and longitude of the locations,'\n",
    "        'then use the `get_weather` tool to get the weather.'\n",
    "    ),\n",
    "    deps_type=Deps,\n",
    "    retries=2,\n",
    "    output_type= WeatherTemp,\n",
    "    model_settings=settings\n",
    ")"
   ]
  },
  {
   "cell_type": "code",
   "execution_count": 6,
   "id": "f1dbad37",
   "metadata": {},
   "outputs": [],
   "source": [
    "@weather_agent.tool\n",
    "async def get_lat_lng(ctx: RunContext[Deps], location_description: str) -> LatLng:\n",
    "    \"\"\"Get the latitude and longitude of a location.\n",
    "\n",
    "    Args:\n",
    "        ctx: The context.\n",
    "        location_description: A description of a location.\n",
    "    \"\"\"\n",
    "\n",
    "    # NOTE: the response here will be random, and is not related to the location description.\n",
    "    r = await ctx.deps.client.get(\n",
    "        'https://demo-endpoints.pydantic.workers.dev/latlng',\n",
    "        params={'location': location_description},\n",
    "    )\n",
    "\n",
    "    r.raise_for_status()\n",
    "\n",
    "    return LatLng.model_validate_json(r.content)"
   ]
  },
  {
   "cell_type": "code",
   "execution_count": 7,
   "id": "876dec3d",
   "metadata": {},
   "outputs": [],
   "source": [
    "@weather_agent.tool\n",
    "async def get_weather(ctx: RunContext[Deps], lat: float, lng: float) -> dict[str, Any]:\n",
    "    \"\"\"Get the weather at a location.\n",
    "        Give a descriptive sentiment.\n",
    "\n",
    "    Args:\n",
    "        ctx: The context.\n",
    "        lat: Latitude of the location.\n",
    "        lng: Longitude of the location.\n",
    "    \"\"\"\n",
    "\n",
    "    # NOTE: the responses here will be random, and are not related to the lat and lng.\n",
    "    temp_response, descr_response = await asyncio.gather(\n",
    "        ctx.deps.client.get(\n",
    "            'https://demo-endpoints.pydantic.workers.dev/number',\n",
    "            params={'min': 10, 'max': 30},\n",
    "        ),\n",
    "        ctx.deps.client.get(\n",
    "            'https://demo-endpoints.pydantic.workers.dev/weather',\n",
    "            params={'lat': lat, 'lng': lng},\n",
    "        ),\n",
    "    )\n",
    "\n",
    "    # raise error if not found\n",
    "    temp_response.raise_for_status()\n",
    "    descr_response.raise_for_status()\n",
    "\n",
    "    output= {\n",
    "        'temperature': f'{temp_response.text} °C',\n",
    "        'description': descr_response.text,\n",
    "    }\n",
    "    return output"
   ]
  },
  {
   "cell_type": "code",
   "execution_count": 8,
   "id": "860f58b3",
   "metadata": {},
   "outputs": [
    {
     "name": "stdout",
     "output_type": "stream",
     "text": [
      "22:24:35.475 Weather Agent run\n",
      "22:24:35.484   chat gemini-1.5-flash\n",
      "22:24:36.482   running 2 tools\n",
      "22:24:36.484     running tool: get_lat_lng\n",
      "22:24:36.485     running tool: get_lat_lng\n",
      "22:24:36.638   chat gemini-1.5-flash\n",
      "22:24:37.183   running 1 tool\n",
      "22:24:37.184     running tool: get_weather\n",
      "22:24:37.234   chat gemini-1.5-flash\n",
      "22:24:37.747   running 1 tool\n",
      "22:24:37.748     running tool: get_weather\n",
      "22:24:37.795   chat gemini-1.5-flash\n",
      "\n",
      "Response:\n",
      "\n",
      "city='London' weather='partly cloudy' temperature='11 °C' sentiment='pleasant'\n",
      "{'city': 'London', 'weather': 'partly cloudy', 'temperature': '11 °C', 'sentiment': 'pleasant'}\n",
      "---\n",
      "city='Bangalore' weather='drizzling' temperature='11 °C' sentiment='pleasant'\n",
      "{'city': 'Bangalore', 'weather': 'drizzling', 'temperature': '11 °C', 'sentiment': 'pleasant'}\n",
      "---\n"
     ]
    }
   ],
   "source": [
    "async def main(question):\n",
    "    async with AsyncClient() as client:\n",
    "        # logfire.instrument_httpx(client, capture_all=True)\n",
    "        deps = Deps(client=client)\n",
    "        result = await weather_agent.run(\n",
    "            question, \n",
    "            deps=deps,\n",
    "            output_type=List[WeatherTemp]  \n",
    "        )\n",
    "\n",
    "        print('\\nResponse:\\n')\n",
    "        # The output is now a list, so we should loop through it\n",
    "        for report in result.output:\n",
    "            print(report)\n",
    "            print(report.model_dump())\n",
    "            print('---')\n",
    "\n",
    "\n",
    "if __name__ == '__main__':\n",
    "    await main(question = 'What is the weather like in London and Bangalore?')"
   ]
  },
  {
   "cell_type": "code",
   "execution_count": null,
   "id": "7848d3c4",
   "metadata": {},
   "outputs": [],
   "source": []
  },
  {
   "cell_type": "code",
   "execution_count": null,
   "id": "3d5879be",
   "metadata": {},
   "outputs": [],
   "source": []
  }
 ],
 "metadata": {
  "kernelspec": {
   "display_name": ".pydantic",
   "language": "python",
   "name": "python3"
  },
  "language_info": {
   "codemirror_mode": {
    "name": "ipython",
    "version": 3
   },
   "file_extension": ".py",
   "mimetype": "text/x-python",
   "name": "python",
   "nbconvert_exporter": "python",
   "pygments_lexer": "ipython3",
   "version": "3.11.13"
  }
 },
 "nbformat": 4,
 "nbformat_minor": 5
}
